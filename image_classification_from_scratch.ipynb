{
 "cells": [
  {
   "cell_type": "markdown",
   "metadata": {
    "id": "oZ9nlubuX1sx"
   },
   "source": [
    "# Image classification from scratch\n",
    "\n",
    "**Author:** [fchollet](https://twitter.com/fchollet)<br>\n",
    "**Date created:** 2020/04/27<br>\n",
    "**Last modified:** 2023/11/09<br>\n",
    "**Description:** Training an image classifier from scratch on the Kaggle Cats vs Dogs dataset."
   ]
  },
  {
   "cell_type": "markdown",
   "metadata": {
    "id": "sw5BImcKX1sy"
   },
   "source": [
    "## Introduction\n",
    "\n",
    "This example shows how to do image classification from scratch, starting from JPEG\n",
    "image files on disk, without leveraging pre-trained weights or a pre-made Keras\n",
    "Application model. We demonstrate the workflow on the Kaggle Cats vs Dogs binary\n",
    "classification dataset.\n",
    "\n",
    "We use the `image_dataset_from_directory` utility to generate the datasets, and\n",
    "we use Keras image preprocessing layers for image standardization and data augmentation."
   ]
  },
  {
   "cell_type": "markdown",
   "metadata": {
    "id": "p2JHNLmJX1sy"
   },
   "source": [
    "## Setup"
   ]
  },
  {
   "cell_type": "code",
   "execution_count": 4,
   "metadata": {
    "id": "sTlmHjqpX1sz"
   },
   "outputs": [],
   "source": [
    "import os\n",
    "import numpy as np\n",
    "import keras\n",
    "from keras import layers\n",
    "from tensorflow import data as tf_data\n",
    "import matplotlib.pyplot as plt"
   ]
  },
  {
   "cell_type": "markdown",
   "metadata": {
    "id": "5ewE11jeX1sz"
   },
   "source": [
    "## Load the data: the Cats vs Dogs dataset\n",
    "\n",
    "### Raw data download\n",
    "\n",
    "First, let's download the 786M ZIP archive of the raw data:"
   ]
  },
  {
   "cell_type": "code",
   "execution_count": 16,
   "metadata": {
    "colab": {
     "base_uri": "https://localhost:8080/"
    },
    "id": "OGkgotY8X1sz",
    "outputId": "8d776cc3-05ec-4755-ce40-d96df38036fc"
   },
   "outputs": [
    {
     "name": "stderr",
     "output_type": "stream",
     "text": [
      "  % Total    % Received % Xferd  Average Speed   Time    Time     Time  Current\n",
      "                                 Dload  Upload   Total   Spent    Left  Speed\n",
      "\n",
      "  0     0    0     0    0     0      0      0 --:--:-- --:--:-- --:--:--     0\n",
      "  0  786M    0 6365k    0     0  9110k      0  0:01:28 --:--:--  0:01:28 9172k\n",
      "  2  786M    2 23.1M    0     0  13.6M      0  0:00:57  0:00:01  0:00:56 13.6M\n",
      "  5  786M    5 39.5M    0     0  14.5M      0  0:00:53  0:00:02  0:00:51 14.6M\n",
      "  7  786M    7 57.1M    0     0  15.4M      0  0:00:50  0:00:03  0:00:47 15.4M\n",
      " 11  786M   11 92.7M    0     0  19.7M      0  0:00:39  0:00:04  0:00:35 19.7M\n",
      " 16  786M   16  128M    0     0  22.5M      0  0:00:34  0:00:05  0:00:29 24.4M\n",
      " 20  786M   20  162M    0     0  24.2M      0  0:00:32  0:00:06  0:00:26 27.8M\n",
      " 25  786M   25  197M    0     0  25.6M      0  0:00:30  0:00:07  0:00:23 31.6M\n",
      " 29  786M   29  232M    0     0  26.7M      0  0:00:29  0:00:08  0:00:21 35.1M\n",
      " 33  786M   33  266M    0     0  27.4M      0  0:00:28  0:00:09  0:00:19 34.6M\n",
      " 38  786M   38  302M    0     0  28.2M      0  0:00:27  0:00:10  0:00:17 34.7M\n",
      " 41  786M   41  328M    0     0  28.1M      0  0:00:27  0:00:11  0:00:16 33.2M\n",
      " 46  786M   46  365M    0     0  28.7M      0  0:00:27  0:00:12  0:00:15 33.5M\n",
      " 50  786M   50  400M    0     0  29.2M      0  0:00:26  0:00:13  0:00:13 33.4M\n",
      " 55  786M   55  435M    0     0  29.6M      0  0:00:26  0:00:14  0:00:12 33.8M\n",
      " 59  786M   59  471M    0     0  30.0M      0  0:00:26  0:00:15  0:00:11 33.8M\n",
      " 64  786M   64  507M    0     0  30.3M      0  0:00:25  0:00:16  0:00:09 35.7M\n",
      " 69  786M   69  543M    0     0  30.7M      0  0:00:25  0:00:17  0:00:08 35.7M\n",
      " 73  786M   73  578M    0     0  30.9M      0  0:00:25  0:00:18  0:00:07 35.7M\n",
      " 78  786M   78  614M    0     0  31.1M      0  0:00:25  0:00:19  0:00:06 35.7M\n",
      " 82  786M   82  650M    0     0  31.4M      0  0:00:25  0:00:20  0:00:05 35.7M\n",
      " 86  786M   86  682M    0     0  31.4M      0  0:00:25  0:00:21  0:00:04 34.9M\n",
      " 91  786M   91  718M    0     0  31.6M      0  0:00:24  0:00:22  0:00:02 34.8M\n",
      " 95  786M   95  752M    0     0  31.7M      0  0:00:24  0:00:23  0:00:01 34.7M\n",
      "100  786M  100  786M    0     0  31.8M      0  0:00:24  0:00:24 --:--:-- 34.7M\n"
     ]
    }
   ],
   "source": [
    "!curl -O https://download.microsoft.com/download/3/E/1/3E1C3F21-ECDB-4869-8368-6DEBA77B919F/kagglecatsanddogs_5340.zip"
   ]
  },
  {
   "cell_type": "code",
   "execution_count": 18,
   "metadata": {
    "colab": {
     "base_uri": "https://localhost:8080/"
    },
    "id": "bsi105VRX1s0",
    "outputId": "4678b4ba-9e0f-4823-af3d-7bc1078de1ae"
   },
   "outputs": [
    {
     "name": "stderr",
     "output_type": "stream",
     "text": [
      "'unzip' is not recognized as an internal or external command,\n",
      "operable program or batch file.\n",
      "'ls' is not recognized as an internal or external command,\n",
      "operable program or batch file.\n"
     ]
    }
   ],
   "source": [
    "!unzip -q kagglecatsanddogs_5340.zip\n",
    "!ls"
   ]
  },
  {
   "cell_type": "markdown",
   "metadata": {
    "id": "5UTugHycX1s0"
   },
   "source": [
    "Now we have a `PetImages` folder which contain two subfolders, `Cat` and `Dog`. Each\n",
    "subfolder contains image files for each category."
   ]
  },
  {
   "cell_type": "code",
   "execution_count": 9,
   "metadata": {
    "colab": {
     "base_uri": "https://localhost:8080/"
    },
    "id": "B4EMFjaeX1s0",
    "outputId": "3d1e0c12-7f46-44fe-94c7-282e4ef201fb"
   },
   "outputs": [
    {
     "name": "stderr",
     "output_type": "stream",
     "text": [
      "'ls' is not recognized as an internal or external command,\n",
      "operable program or batch file.\n"
     ]
    }
   ],
   "source": [
    "!ls PetImages"
   ]
  },
  {
   "cell_type": "markdown",
   "metadata": {
    "id": "FnpwHpgbX1s0"
   },
   "source": [
    "### Filter out corrupted images\n",
    "\n",
    "When working with lots of real-world image data, corrupted images are a common\n",
    "occurence. Let's filter out badly-encoded images that do not feature the string \"JFIF\"\n",
    "in their header."
   ]
  },
  {
   "cell_type": "code",
   "execution_count": 11,
   "metadata": {
    "colab": {
     "base_uri": "https://localhost:8080/"
    },
    "id": "ls7RiX6yX1s0",
    "outputId": "b7743492-4f06-4100-caab-f385a5cc1059"
   },
   "outputs": [
    {
     "ename": "FileNotFoundError",
     "evalue": "[WinError 3] The system cannot find the path specified: 'PetImages\\\\Cat'",
     "output_type": "error",
     "traceback": [
      "\u001b[1;31m---------------------------------------------------------------------------\u001b[0m",
      "\u001b[1;31mFileNotFoundError\u001b[0m                         Traceback (most recent call last)",
      "Cell \u001b[1;32mIn[11], line 4\u001b[0m\n\u001b[0;32m      2\u001b[0m \u001b[38;5;28;01mfor\u001b[39;00m folder_name \u001b[38;5;129;01min\u001b[39;00m (\u001b[38;5;124m\"\u001b[39m\u001b[38;5;124mCat\u001b[39m\u001b[38;5;124m\"\u001b[39m, \u001b[38;5;124m\"\u001b[39m\u001b[38;5;124mDog\u001b[39m\u001b[38;5;124m\"\u001b[39m):\n\u001b[0;32m      3\u001b[0m     folder_path \u001b[38;5;241m=\u001b[39m os\u001b[38;5;241m.\u001b[39mpath\u001b[38;5;241m.\u001b[39mjoin(\u001b[38;5;124m\"\u001b[39m\u001b[38;5;124mPetImages\u001b[39m\u001b[38;5;124m\"\u001b[39m, folder_name)\n\u001b[1;32m----> 4\u001b[0m     \u001b[38;5;28;01mfor\u001b[39;00m fname \u001b[38;5;129;01min\u001b[39;00m os\u001b[38;5;241m.\u001b[39mlistdir(folder_path):\n\u001b[0;32m      5\u001b[0m         fpath \u001b[38;5;241m=\u001b[39m os\u001b[38;5;241m.\u001b[39mpath\u001b[38;5;241m.\u001b[39mjoin(folder_path, fname)\n\u001b[0;32m      6\u001b[0m         \u001b[38;5;28;01mtry\u001b[39;00m:\n",
      "\u001b[1;31mFileNotFoundError\u001b[0m: [WinError 3] The system cannot find the path specified: 'PetImages\\\\Cat'"
     ]
    }
   ],
   "source": [
    "num_skipped = 0\n",
    "for folder_name in (\"Cat\", \"Dog\"):\n",
    "    folder_path = os.path.join(\"PetImages\", folder_name)\n",
    "    for fname in os.listdir(folder_path):\n",
    "        fpath = os.path.join(folder_path, fname)\n",
    "        try:\n",
    "            fobj = open(fpath, \"rb\")\n",
    "            is_jfif = b\"JFIF\" in fobj.peek(10)\n",
    "        finally:\n",
    "            fobj.close()\n",
    "\n",
    "        if not is_jfif:\n",
    "            num_skipped += 1\n",
    "            # Delete corrupted image\n",
    "            os.remove(fpath)\n",
    "\n",
    "print(f\"Deleted {num_skipped} images.\")"
   ]
  },
  {
   "cell_type": "markdown",
   "metadata": {
    "id": "tdxgePS9X1s1"
   },
   "source": [
    "## Generate a `Dataset`"
   ]
  },
  {
   "cell_type": "code",
   "execution_count": null,
   "metadata": {
    "colab": {
     "base_uri": "https://localhost:8080/"
    },
    "id": "_CNg4eC8X1s1",
    "outputId": "a3ce0a14-240a-4bb3-b158-7f7fd4427124"
   },
   "outputs": [],
   "source": [
    "image_size = (180, 180)\n",
    "batch_size = 128\n",
    "\n",
    "train_ds, val_ds = keras.utils.image_dataset_from_directory(\n",
    "    \"PetImages\",\n",
    "    validation_split=0.2,\n",
    "    subset=\"both\",\n",
    "    seed=1337,\n",
    "    image_size=image_size,\n",
    "    batch_size=batch_size,\n",
    ")"
   ]
  },
  {
   "cell_type": "markdown",
   "metadata": {
    "id": "kaayZ8HAX1s1"
   },
   "source": [
    "## Visualize the data\n",
    "\n",
    "Here are the first 9 images in the training dataset."
   ]
  },
  {
   "cell_type": "code",
   "execution_count": null,
   "metadata": {
    "colab": {
     "base_uri": "https://localhost:8080/",
     "height": 829
    },
    "id": "jw6kiMsZX1s1",
    "outputId": "46876538-7008-49b3-96b0-d651098a3b82"
   },
   "outputs": [],
   "source": [
    "\n",
    "plt.figure(figsize=(10, 10))\n",
    "for images, labels in train_ds.take(1):\n",
    "    for i in range(9):\n",
    "        ax = plt.subplot(3, 3, i + 1)\n",
    "        plt.imshow(np.array(images[i]).astype(\"uint8\"))\n",
    "        plt.title(int(labels[i]))\n",
    "        plt.axis(\"off\")"
   ]
  },
  {
   "cell_type": "markdown",
   "metadata": {
    "id": "NQl0gD57X1s1"
   },
   "source": [
    "## Using image data augmentation\n",
    "\n",
    "When you don't have a large image dataset, it's a good practice to artificially\n",
    "introduce sample diversity by applying random yet realistic transformations to the\n",
    "training images, such as random horizontal flipping or small random rotations. This\n",
    "helps expose the model to different aspects of the training data while slowing down\n",
    "overfitting."
   ]
  },
  {
   "cell_type": "code",
   "execution_count": null,
   "metadata": {
    "id": "mSPKxiduX1s1"
   },
   "outputs": [],
   "source": [
    "data_augmentation_layers = [\n",
    "    layers.RandomFlip(\"horizontal\"),\n",
    "    layers.RandomRotation(0.1),\n",
    "]\n",
    "\n",
    "\n",
    "def data_augmentation(images):\n",
    "    for layer in data_augmentation_layers:\n",
    "        images = layer(images)\n",
    "    return images\n"
   ]
  },
  {
   "cell_type": "markdown",
   "metadata": {
    "id": "JHJcCYcyX1s1"
   },
   "source": [
    "Let's visualize what the augmented samples look like, by applying `data_augmentation`\n",
    "repeatedly to the first few images in the dataset:"
   ]
  },
  {
   "cell_type": "code",
   "execution_count": null,
   "metadata": {
    "colab": {
     "base_uri": "https://localhost:8080/",
     "height": 807
    },
    "id": "FV_hjd_CX1s1",
    "outputId": "af797aa2-76e7-4acb-f960-3a961ede2cb7"
   },
   "outputs": [],
   "source": [
    "plt.figure(figsize=(10, 10))\n",
    "for images, _ in train_ds.take(1):\n",
    "    for i in range(9):\n",
    "        augmented_images = data_augmentation(images)\n",
    "        ax = plt.subplot(3, 3, i + 1)\n",
    "        plt.imshow(np.array(augmented_images[0]).astype(\"uint8\"))\n",
    "        plt.axis(\"off\")\n"
   ]
  },
  {
   "cell_type": "markdown",
   "metadata": {
    "id": "ygVmW_FsX1s1"
   },
   "source": [
    "## Standardizing the data\n",
    "\n",
    "Our image are already in a standard size (180x180), as they are being yielded as\n",
    "contiguous `float32` batches by our dataset. However, their RGB channel values are in\n",
    "the `[0, 255]` range. This is not ideal for a neural network;\n",
    "in general you should seek to make your input values small. Here, we will\n",
    "standardize values to be in the `[0, 1]` by using a `Rescaling` layer at the start of\n",
    "our model."
   ]
  },
  {
   "cell_type": "markdown",
   "metadata": {
    "id": "EJw8c9JLX1s2"
   },
   "source": [
    "## Two options to preprocess the data\n",
    "\n",
    "There are two ways you could be using the `data_augmentation` preprocessor:\n",
    "\n",
    "**Option 1: Make it part of the model**, like this:\n",
    "\n",
    "```python\n",
    "inputs = keras.Input(shape=input_shape)\n",
    "x = data_augmentation(inputs)\n",
    "x = layers.Rescaling(1./255)(x)\n",
    "...  # Rest of the model\n",
    "```\n",
    "\n",
    "With this option, your data augmentation will happen *on device*, synchronously\n",
    "with the rest of the model execution, meaning that it will benefit from GPU\n",
    "acceleration.\n",
    "\n",
    "Note that data augmentation is inactive at test time, so the input samples will only be\n",
    "augmented during `fit()`, not when calling `evaluate()` or `predict()`.\n",
    "\n",
    "If you're training on GPU, this may be a good option.\n",
    "\n",
    "**Option 2: apply it to the dataset**, so as to obtain a dataset that yields batches of\n",
    "augmented images, like this:\n",
    "\n",
    "```python\n",
    "augmented_train_ds = train_ds.map(\n",
    "    lambda x, y: (data_augmentation(x, training=True), y))\n",
    "```\n",
    "\n",
    "With this option, your data augmentation will happen **on CPU**, asynchronously, and will\n",
    "be buffered before going into the model.\n",
    "\n",
    "If you're training on CPU, this is the better option, since it makes data augmentation\n",
    "asynchronous and non-blocking.\n",
    "\n",
    "In our case, we'll go with the second option. If you're not sure\n",
    "which one to pick, this second option (asynchronous preprocessing) is always a solid choice."
   ]
  },
  {
   "cell_type": "markdown",
   "metadata": {
    "id": "VdF9FPXCX1s2"
   },
   "source": [
    "## Configure the dataset for performance\n",
    "\n",
    "Let's apply data augmentation to our training dataset,\n",
    "and let's make sure to use buffered prefetching so we can yield data from disk without\n",
    "having I/O becoming blocking:"
   ]
  },
  {
   "cell_type": "code",
   "execution_count": null,
   "metadata": {
    "id": "ZugWttN4X1s2"
   },
   "outputs": [],
   "source": [
    "# Apply `data_augmentation` to the training images.\n",
    "train_ds = train_ds.map(\n",
    "    lambda img, label: (data_augmentation(img), label),\n",
    "    num_parallel_calls=tf_data.AUTOTUNE,\n",
    ")\n",
    "# Prefetching samples in GPU memory helps maximize GPU utilization.\n",
    "train_ds = train_ds.prefetch(tf_data.AUTOTUNE)\n",
    "val_ds = val_ds.prefetch(tf_data.AUTOTUNE)"
   ]
  },
  {
   "cell_type": "markdown",
   "metadata": {
    "id": "9zxzDzr3X1s2"
   },
   "source": [
    "## Build a model\n",
    "\n",
    "We'll build a small version of the Xception network. We haven't particularly tried to\n",
    "optimize the architecture; if you want to do a systematic search for the best model\n",
    "configuration, consider using\n",
    "[KerasTuner](https://github.com/keras-team/keras-tuner).\n",
    "\n",
    "Note that:\n",
    "\n",
    "- We start the model with the `data_augmentation` preprocessor, followed by a\n",
    " `Rescaling` layer.\n",
    "- We include a `Dropout` layer before the final classification layer."
   ]
  },
  {
   "cell_type": "code",
   "execution_count": null,
   "metadata": {
    "colab": {
     "base_uri": "https://localhost:8080/",
     "height": 1000
    },
    "id": "i0ggZeK6X1s2",
    "outputId": "1fd85e1e-71b5-4a88-82e7-c0855c4d78c7"
   },
   "outputs": [],
   "source": [
    "\n",
    "def make_model(input_shape, num_classes):\n",
    "    inputs = keras.Input(shape=input_shape)\n",
    "\n",
    "    # Entry block\n",
    "    x = layers.Rescaling(1.0 / 255)(inputs)\n",
    "    x = layers.Conv2D(128, 3, strides=2, padding=\"same\")(x)\n",
    "    x = layers.BatchNormalization()(x)\n",
    "    x = layers.Activation(\"relu\")(x)\n",
    "\n",
    "    previous_block_activation = x  # Set aside residual\n",
    "\n",
    "    for size in [256, 512, 728]:\n",
    "        x = layers.Activation(\"relu\")(x)\n",
    "        x = layers.SeparableConv2D(size, 3, padding=\"same\")(x)\n",
    "        x = layers.BatchNormalization()(x)\n",
    "\n",
    "        x = layers.Activation(\"relu\")(x)\n",
    "        x = layers.SeparableConv2D(size, 3, padding=\"same\")(x)\n",
    "        x = layers.BatchNormalization()(x)\n",
    "\n",
    "        x = layers.MaxPooling2D(3, strides=2, padding=\"same\")(x)\n",
    "\n",
    "        # Project residual\n",
    "        residual = layers.Conv2D(size, 1, strides=2, padding=\"same\")(\n",
    "            previous_block_activation\n",
    "        )\n",
    "        x = layers.add([x, residual])  # Add back residual\n",
    "        previous_block_activation = x  # Set aside next residual\n",
    "\n",
    "    x = layers.SeparableConv2D(1024, 3, padding=\"same\")(x)\n",
    "    x = layers.BatchNormalization()(x)\n",
    "    x = layers.Activation(\"relu\")(x)\n",
    "\n",
    "    x = layers.GlobalAveragePooling2D()(x)\n",
    "    if num_classes == 2:\n",
    "        units = 1\n",
    "    else:\n",
    "        units = num_classes\n",
    "\n",
    "    x = layers.Dropout(0.25)(x)\n",
    "    # We specify activation=None so as to return logits\n",
    "    outputs = layers.Dense(units, activation=None)(x)\n",
    "    return keras.Model(inputs, outputs)\n",
    "\n",
    "\n",
    "model = make_model(input_shape=image_size + (3,), num_classes=2)\n",
    "keras.utils.plot_model(model, show_shapes=True)"
   ]
  },
  {
   "cell_type": "markdown",
   "metadata": {
    "id": "iY1Q2RCEX1s2"
   },
   "source": [
    "## Train the model"
   ]
  },
  {
   "cell_type": "code",
   "execution_count": null,
   "metadata": {
    "colab": {
     "base_uri": "https://localhost:8080/"
    },
    "id": "UrAFt3wxX1s2",
    "outputId": "e4ee4599-5173-4f5b-e13a-50f20cfe64c7"
   },
   "outputs": [],
   "source": [
    "epochs = 25\n",
    "\n",
    "callbacks = [\n",
    "    keras.callbacks.ModelCheckpoint(\"save_at_{epoch}.keras\"),\n",
    "]\n",
    "model.compile(\n",
    "    optimizer=keras.optimizers.Adam(3e-4),\n",
    "    loss=keras.losses.BinaryCrossentropy(from_logits=True),\n",
    "    metrics=[keras.metrics.BinaryAccuracy(name=\"acc\")],\n",
    ")\n",
    "model.fit(\n",
    "    train_ds,\n",
    "    epochs=epochs,\n",
    "    callbacks=callbacks,\n",
    "    validation_data=val_ds,\n",
    ")"
   ]
  },
  {
   "cell_type": "markdown",
   "metadata": {
    "id": "rCIdCF32X1s2"
   },
   "source": [
    "We get to >90% validation accuracy after training for 25 epochs on the full dataset\n",
    "(in practice, you can train for 50+ epochs before validation performance starts degrading)."
   ]
  },
  {
   "cell_type": "markdown",
   "metadata": {
    "id": "dkZqh2cQX1s2"
   },
   "source": [
    "## Run inference on new data\n",
    "\n",
    "Note that data augmentation and dropout are inactive at inference time."
   ]
  },
  {
   "cell_type": "code",
   "execution_count": null,
   "metadata": {
    "id": "B119QuvvX1s2"
   },
   "outputs": [],
   "source": [
    "img = keras.utils.load_img(\"PetImages/Cat/6779.jpg\", target_size=image_size)\n",
    "plt.imshow(img)\n",
    "\n",
    "img_array = keras.utils.img_to_array(img)\n",
    "img_array = keras.ops.expand_dims(img_array, 0)  # Create batch axis\n",
    "\n",
    "predictions = model.predict(img_array)\n",
    "score = float(keras.ops.sigmoid(predictions[0][0]))\n",
    "print(f\"This image is {100 * (1 - score):.2f}% cat and {100 * score:.2f}% dog.\")"
   ]
  },
  {
   "cell_type": "code",
   "execution_count": null,
   "metadata": {},
   "outputs": [],
   "source": []
  },
  {
   "cell_type": "code",
   "execution_count": null,
   "metadata": {},
   "outputs": [],
   "source": []
  },
  {
   "cell_type": "code",
   "execution_count": null,
   "metadata": {},
   "outputs": [],
   "source": []
  }
 ],
 "metadata": {
  "accelerator": "GPU",
  "colab": {
   "name": "image_classification_from_scratch",
   "provenance": []
  },
  "kernelspec": {
   "display_name": "Python 3 (ipykernel)",
   "language": "python",
   "name": "python3"
  },
  "language_info": {
   "codemirror_mode": {
    "name": "ipython",
    "version": 3
   },
   "file_extension": ".py",
   "mimetype": "text/x-python",
   "name": "python",
   "nbconvert_exporter": "python",
   "pygments_lexer": "ipython3",
   "version": "3.12.7"
  }
 },
 "nbformat": 4,
 "nbformat_minor": 4
}
